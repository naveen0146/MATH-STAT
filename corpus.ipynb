{
 "cells": [
  {
   "cell_type": "code",
   "execution_count": 5,
   "id": "a4fc1608",
   "metadata": {},
   "outputs": [
    {
     "name": "stderr",
     "output_type": "stream",
     "text": [
      "\n",
      "[notice] A new release of pip available: 22.3 -> 25.1.1\n",
      "[notice] To update, run: python.exe -m pip install --upgrade pip\n",
      "c:\\Users\\navee\\AppData\\Local\\Programs\\Python\\Python311\\Lib\\site-packages\\tqdm\\auto.py:21: TqdmWarning: IProgress not found. Please update jupyter and ipywidgets. See https://ipywidgets.readthedocs.io/en/stable/user_install.html\n",
      "  from .autonotebook import tqdm as notebook_tqdm\n",
      "c:\\Users\\navee\\AppData\\Local\\Programs\\Python\\Python311\\Lib\\site-packages\\huggingface_hub\\file_download.py:143: UserWarning: `huggingface_hub` cache-system uses symlinks by default to efficiently store duplicated files but your machine does not support them in C:\\Users\\navee\\.cache\\huggingface\\hub\\datasets--fka--awesome-chatgpt-prompts. Caching files will still work but in a degraded version that might require more space on your disk. This warning can be disabled by setting the `HF_HUB_DISABLE_SYMLINKS_WARNING` environment variable. For more details, see https://huggingface.co/docs/huggingface_hub/how-to-cache#limitations.\n",
      "To support symlinks on Windows, you either need to activate Developer Mode or to run Python as an administrator. In order to activate developer mode, see this article: https://docs.microsoft.com/en-us/windows/apps/get-started/enable-your-device-for-development\n",
      "  warnings.warn(message)\n",
      "Generating train split: 100%|██████████| 203/203 [00:00<00:00, 10961.20 examples/s]"
     ]
    },
    {
     "name": "stdout",
     "output_type": "stream",
     "text": [
      "✅ Available Splits: dict_keys(['train'])\n",
      "\n",
      "📄 Sample Record:\n",
      "\n",
      "{'act': 'An Ethereum Developer', 'prompt': 'Imagine you are an experienced Ethereum developer tasked with creating a smart contract for a blockchain messenger. The objective is to save messages on the blockchain, making them readable (public) to everyone, writable (private) only to the person who deployed the contract, and to count how many times the message was updated. Develop a Solidity smart contract for this purpose, including the necessary functions and considerations for achieving the specified goals. Please provide the code and any relevant explanations to ensure a clear understanding of the implementation.'}\n"
     ]
    },
    {
     "name": "stderr",
     "output_type": "stream",
     "text": [
      "\n"
     ]
    }
   ],
   "source": [
    "# Step 1: Install the datasets library if not already installed\n",
    "!pip install datasets --quiet\n",
    "\n",
    "# Step 2: Import the library\n",
    "from datasets import load_dataset\n",
    "\n",
    "# Step 3: Load the dataset\n",
    "dataset = load_dataset(\"fka/awesome-chatgpt-prompts\")\n",
    "\n",
    "# Step 4: Explore the dataset\n",
    "print(\"✅ Available Splits:\", dataset.keys())\n",
    "print(\"\\n📄 Sample Record:\\n\")\n",
    "print(dataset['train'][0])  # show the first example\n"
   ]
  },
  {
   "cell_type": "code",
   "execution_count": 6,
   "id": "4ed766ca",
   "metadata": {},
   "outputs": [
    {
     "name": "stderr",
     "output_type": "stream",
     "text": [
      "[nltk_data] Downloading package punkt to\n",
      "[nltk_data]     C:\\Users\\navee\\AppData\\Roaming\\nltk_data...\n",
      "[nltk_data]   Unzipping tokenizers\\punkt.zip.\n"
     ]
    }
   ],
   "source": [
    "from datasets import load_dataset\n",
    "import nltk\n",
    "from nltk.tokenize import word_tokenize\n",
    "import string\n",
    "\n",
    "# Download tokenizer\n",
    "nltk.download('punkt')\n",
    "\n",
    "# Load dataset\n",
    "dataset = load_dataset(\"fka/awesome-chatgpt-prompts\")\n",
    "data = dataset['train']  # Use the 'train' split\n",
    "\n",
    "# Extract the \"prompt\" field as corpus\n",
    "corpus = [entry['prompt'] for entry in data if entry['prompt']]\n"
   ]
  },
  {
   "cell_type": "code",
   "execution_count": null,
   "id": "35d6cc6d",
   "metadata": {},
   "outputs": [
    {
     "name": "stderr",
     "output_type": "stream",
     "text": [
      "[nltk_data] Downloading package punkt to\n",
      "[nltk_data]     C:\\Users\\navee\\AppData\\Roaming\\nltk_data...\n",
      "[nltk_data]   Package punkt is already up-to-date!\n",
      "[nltk_data] Downloading package punkt_tab to\n",
      "[nltk_data]     C:\\Users\\navee\\AppData\\Roaming\\nltk_data...\n"
     ]
    },
    {
     "name": "stdout",
     "output_type": "stream",
     "text": [
      "🔹 Tokens: ['i', 'want', 'you', 'to', 'act', 'as', 'a', 'linux', 'terminal']\n"
     ]
    },
    {
     "name": "stderr",
     "output_type": "stream",
     "text": [
      "[nltk_data]   Unzipping tokenizers\\punkt_tab.zip.\n"
     ]
    }
   ],
   "source": [
    "import nltk\n",
    "from nltk.tokenize import word_tokenize\n",
    "import string\n",
    "\n",
    "# ✅ Download the tokenizer data\n",
    "nltk.download('punkt')\n",
    "nltk.download('punkt_tab')\n",
    "\n",
    "# Sample sentence\n",
    "text = \"I want you to act as a Linux terminal.\"\n",
    "\n",
    "# Clean and tokenize\n",
    "def preprocess(text):\n",
    "    text = text.lower()\n",
    "    text = text.translate(str.maketrans('', '', string.punctuation))\n",
    "    return word_tokenize(text)\n",
    "\n",
    "tokens = preprocess(text)\n",
    "print(\"🔹 Tokens:\", tokens)\n"
   ]
  },
  {
   "cell_type": "code",
   "execution_count": 13,
   "id": "66c2e21e",
   "metadata": {},
   "outputs": [
    {
     "name": "stdout",
     "output_type": "stream",
     "text": [
      "\n",
      "🔹 Top 10 Unigrams: [(('to',), 617), (('the',), 578), (('you',), 577), (('and',), 569), (('i',), 512), (('a',), 433), (('will',), 290), (('of',), 243), (('as',), 242), (('want',), 228)]\n",
      "\n",
      "🔹 Top 10 Bigrams: [(('i', 'want'), 221), (('you', 'to'), 215), (('want', 'you'), 203), (('act', 'as'), 170), (('to', 'act'), 166), (('as', 'a'), 134), (('my', 'first'), 134), (('i', 'will'), 131), (('you', 'will'), 116), (('request', 'is'), 91)]\n",
      "\n",
      "🔹 Top 10 Trigrams: [(('want', 'you', 'to'), 201), (('i', 'want', 'you'), 199), (('you', 'to', 'act'), 164), (('to', 'act', 'as'), 160), (('act', 'as', 'a'), 130), (('request', 'is', 'i'), 77), (('my', 'first', 'request'), 59), (('first', 'request', 'is'), 58), (('and', 'you', 'will'), 54), (('is', 'i', 'need'), 52)]\n"
     ]
    }
   ],
   "source": [
    "from nltk.util import ngrams\n",
    "from collections import Counter\n",
    "\n",
    "# Preprocess and tokenize all texts in corpus\n",
    "def preprocess(text):\n",
    "    text = text.lower()\n",
    "    text = text.translate(str.maketrans('', '', string.punctuation))\n",
    "    return word_tokenize(text)\n",
    "\n",
    "all_tokens = []\n",
    "for sent in corpus:\n",
    "    all_tokens.extend(preprocess(sent))\n",
    "\n",
    "# Generate n-grams\n",
    "def get_ngrams(tokens, n):\n",
    "    return list(ngrams(tokens, n))\n",
    "\n",
    "# Unigrams\n",
    "unigrams = get_ngrams(all_tokens, 1)\n",
    "print(\"\\n🔹 Top 10 Unigrams:\", Counter(unigrams).most_common(10))\n",
    "\n",
    "# Bigrams\n",
    "bigrams = get_ngrams(all_tokens, 2)\n",
    "print(\"\\n🔹 Top 10 Bigrams:\", Counter(bigrams).most_common(10))\n",
    "\n",
    "# Trigrams\n",
    "trigrams = get_ngrams(all_tokens, 3)\n",
    "print(\"\\n🔹 Top 10 Trigrams:\", Counter(trigrams).most_common(10))\n"
   ]
  },
  {
   "cell_type": "code",
   "execution_count": 14,
   "id": "3e9bb241",
   "metadata": {},
   "outputs": [
    {
     "data": {
      "image/png": "[encoded data removed]",
      "text/plain": [
       "<Figure size 1000x500 with 1 Axes>"
      ]
     },
     "metadata": {},
     "output_type": "display_data"
    }
   ],
   "source": [
    "import matplotlib.pyplot as plt\n",
    "\n",
    "# Top 10 unigrams\n",
    "unigram_counts = Counter(unigrams).most_common(10)\n",
    "words = [' '.join(w) for w, _ in unigram_counts]\n",
    "counts = [c for _, c in unigram_counts]\n",
    "\n",
    "plt.figure(figsize=(10, 5))\n",
    "plt.bar(words, counts, color='skyblue')\n",
    "plt.title(\"Top 10 Unigrams in ChatGPT Prompts\")\n",
    "plt.xticks(rotation=45)\n",
    "plt.ylabel(\"Frequency\")\n",
    "plt.show()\n"
   ]
  },
  {
   "cell_type": "code",
   "execution_count": 16,
   "id": "313e5ab7",
   "metadata": {},
   "outputs": [
    {
     "name": "stdout",
     "output_type": "stream",
     "text": [
      "✅ Combined CSV saved as all_ngrams.csv with filtered frequencies.\n"
     ]
    }
   ],
   "source": [
    "import pandas as pd\n",
    "\n",
    "# Create DataFrames for each n-gram level\n",
    "unigram_df = pd.DataFrame(Counter(unigrams).most_common(), columns=[\"ngram\", \"frequency\"])\n",
    "bigram_df = pd.DataFrame(Counter(bigrams).most_common(), columns=[\"ngram\", \"frequency\"])\n",
    "trigram_df = pd.DataFrame(Counter(trigrams).most_common(), columns=[\"ngram\", \"frequency\"])\n",
    "\n",
    "# Convert tuples to strings\n",
    "unigram_df[\"ngram\"] = unigram_df[\"ngram\"].apply(lambda x: x[0])\n",
    "bigram_df[\"ngram\"] = bigram_df[\"ngram\"].apply(lambda x: ' '.join(x))\n",
    "trigram_df[\"ngram\"] = trigram_df[\"ngram\"].apply(lambda x: ' '.join(x))\n",
    "\n",
    "# Add n-gram type label\n",
    "unigram_df[\"type\"] = \"unigram\"\n",
    "bigram_df[\"type\"] = \"bigram\"\n",
    "trigram_df[\"type\"] = \"trigram\"\n",
    "\n",
    "# Combine all into one DataFrame\n",
    "all_ngrams_df = pd.concat([unigram_df, bigram_df, trigram_df], ignore_index=True)\n",
    "\n",
    "# Optional: Filter out low-frequency n-grams (e.g., frequency > 1)\n",
    "filtered_ngrams_df = all_ngrams_df[all_ngrams_df[\"frequency\"] > 1]\n",
    "\n",
    "# Save to single CSV\n",
    "filtered_ngrams_df.to_csv(\"all_ngrams.csv\", index=False)\n",
    "\n",
    "print(\"✅ Combined CSV saved as all_ngrams.csv with filtered frequencies.\")\n"
   ]
  },
  {
   "cell_type": "markdown",
   "id": "5f01897c",
   "metadata": {},
   "source": [
    "# NLP Corpus Processing Summary\n",
    "\n",
    "- Installed and imported necessary libraries: `datasets`, `nltk`, `matplotlib`, etc.\n",
    "- Downloaded NLTK's `punkt` tokenizer model required for tokenizing sentences and words.\n",
    "- Loaded the `fka/awesome-chatgpt-prompts` dataset from Hugging Face.\n",
    "- Extracted the `prompt` field from the dataset to create a text corpus.\n",
    "- Defined a preprocessing function to:\n",
    "  - Convert text to lowercase.\n",
    "  - Remove punctuation.\n",
    "  - Tokenize text into individual words using NLTK's `word_tokenize`.\n",
    "- Tokenized all prompts in the corpus and combined all tokens into a single list.\n",
    "- Generated n-grams (unigrams, bigrams, and trigrams) from the token list.\n",
    "- Calculated and displayed the top 10 most frequent n-grams for each n-gram type.\n",
    "- Visualized the top 10 unigrams frequency using a bar chart.\n",
    "\n",
    "This workflow prepares raw text data for further NLP analysis and modeling.\n"
   ]
  }
 ],
 "metadata": {
  "kernelspec": {
   "display_name": "Python 3",
   "language": "python",
   "name": "python3"
  },
  "language_info": {
   "codemirror_mode": {
    "name": "ipython",
    "version": 3
   },
   "file_extension": ".py",
   "mimetype": "text/x-python",
   "name": "python",
   "nbconvert_exporter": "python",
   "pygments_lexer": "ipython3",
   "version": "3.11.0"
  }
 },
 "nbformat": 4,
 "nbformat_minor": 5
}
