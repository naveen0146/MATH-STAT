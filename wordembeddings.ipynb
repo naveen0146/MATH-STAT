{
 "cells": [
  {
   "cell_type": "code",
   "execution_count": 8,
   "id": "ae653df9",
   "metadata": {},
   "outputs": [
    {
     "name": "stderr",
     "output_type": "stream",
     "text": [
      "\n",
      "[notice] A new release of pip available: 22.3 -> 25.1.1\n",
      "[notice] To update, run: python.exe -m pip install --upgrade pip\n",
      "\n",
      "[notice] A new release of pip available: 22.3 -> 25.1.1\n",
      "[notice] To update, run: python.exe -m pip install --upgrade pip\n"
     ]
    }
   ],
   "source": [
    "!pip install scikit-learn transformers --quiet\n",
    "!pip install transformers torch --quiet"
   ]
  },
  {
   "cell_type": "code",
   "execution_count": 2,
   "id": "fcff33a7",
   "metadata": {},
   "outputs": [],
   "source": [
    "sentence = [\"The movie was not good, it was amazing.\"]\n"
   ]
  },
  {
   "cell_type": "code",
   "execution_count": 3,
   "id": "f0029ff1",
   "metadata": {},
   "outputs": [
    {
     "name": "stdout",
     "output_type": "stream",
     "text": [
      "Bag of Words Feature Names:\n",
      " ['amazing' 'good' 'it' 'movie' 'not' 'the' 'was']\n",
      "BoW Vector:\n",
      " [[1 1 1 1 1 1 2]]\n"
     ]
    }
   ],
   "source": [
    "from sklearn.feature_extraction.text import CountVectorizer\n",
    "\n",
    "bow_vectorizer = CountVectorizer()\n",
    "bow = bow_vectorizer.fit_transform(sentence)\n",
    "\n",
    "print(\"Bag of Words Feature Names:\\n\", bow_vectorizer.get_feature_names_out())\n",
    "print(\"BoW Vector:\\n\", bow.toarray())\n"
   ]
  },
  {
   "cell_type": "code",
   "execution_count": 4,
   "id": "ed94ab17",
   "metadata": {},
   "outputs": [
    {
     "name": "stdout",
     "output_type": "stream",
     "text": [
      "TF-IDF Feature Names:\n",
      " ['amazing' 'good' 'it' 'movie' 'not' 'the' 'was']\n",
      "TF-IDF Vector:\n",
      " [[0.31622777 0.31622777 0.31622777 0.31622777 0.31622777 0.31622777\n",
      "  0.63245553]]\n"
     ]
    }
   ],
   "source": [
    "from sklearn.feature_extraction.text import TfidfVectorizer\n",
    "\n",
    "tfidf_vectorizer = TfidfVectorizer()\n",
    "tfidf = tfidf_vectorizer.fit_transform(sentence)\n",
    "\n",
    "print(\"TF-IDF Feature Names:\\n\", tfidf_vectorizer.get_feature_names_out())\n",
    "print(\"TF-IDF Vector:\\n\", tfidf.toarray())\n"
   ]
  },
  {
   "cell_type": "code",
   "execution_count": 9,
   "id": "33b21a62",
   "metadata": {},
   "outputs": [
    {
     "name": "stdout",
     "output_type": "stream",
     "text": [
      "✅ BERT Embedding for the sentence:\n",
      "tensor([ 0.1644, -0.3609, -0.0537,  0.1841, -0.3398, -0.7096,  0.2508,  1.0694,\n",
      "         0.3053, -0.2304])\n",
      "\n",
      "Shape of embedding vector: torch.Size([768])\n"
     ]
    }
   ],
   "source": [
    "# Step 2: Import Libraries\n",
    "from transformers import BertTokenizer, BertModel\n",
    "import torch\n",
    "import numpy as np\n",
    "\n",
    "# Step 3: Define the sentence\n",
    "sentence = \"The movie was not good, it was amazing.\"\n",
    "\n",
    "# Step 4: Load Pre-trained BERT tokenizer and model\n",
    "tokenizer = BertTokenizer.from_pretrained('bert-base-uncased')\n",
    "model = BertModel.from_pretrained('bert-base-uncased')\n",
    "\n",
    "# Step 5: Tokenize the input sentence\n",
    "inputs = tokenizer(sentence, return_tensors='pt')\n",
    "\n",
    "# Step 6: Get the BERT output\n",
    "with torch.no_grad():\n",
    "    outputs = model(**inputs)\n",
    "\n",
    "# Step 7: Get [CLS] token embedding (sentence-level meaning)\n",
    "cls_embedding = outputs.last_hidden_state[0][0]  # Shape: [768]\n",
    "\n",
    "print(\"✅ BERT Embedding for the sentence:\")\n",
    "print(cls_embedding[:10])  # Show first 10 values\n",
    "print(\"\\nShape of embedding vector:\", cls_embedding.shape)\n"
   ]
  }
 ],
 "metadata": {
  "kernelspec": {
   "display_name": "Python 3",
   "language": "python",
   "name": "python3"
  },
  "language_info": {
   "codemirror_mode": {
    "name": "ipython",
    "version": 3
   },
   "file_extension": ".py",
   "mimetype": "text/x-python",
   "name": "python",
   "nbconvert_exporter": "python",
   "pygments_lexer": "ipython3",
   "version": "3.11.0"
  }
 },
 "nbformat": 4,
 "nbformat_minor": 5
}
