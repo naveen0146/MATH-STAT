{
 "cells": [
  {
   "cell_type": "code",
   "execution_count": 25,
   "id": "c867ab08",
   "metadata": {},
   "outputs": [
    {
     "name": "stdout",
     "output_type": "stream",
     "text": [
      "hello\n"
     ]
    }
   ],
   "source": [
    "print('hello')"
   ]
  },
  {
   "cell_type": "code",
   "execution_count": 26,
   "id": "ac353ea1",
   "metadata": {},
   "outputs": [],
   "source": [
    "import pandas as pd"
   ]
  },
  {
   "cell_type": "code",
   "execution_count": 27,
   "id": "90b545b6",
   "metadata": {},
   "outputs": [
    {
     "name": "stdout",
     "output_type": "stream",
     "text": [
      "Requirement already satisfied: pandas in c:\\users\\navee\\appdata\\local\\programs\\python\\python311\\lib\\site-packages (2.3.0)\n",
      "Requirement already satisfied: numpy>=1.23.2 in c:\\users\\navee\\appdata\\local\\programs\\python\\python311\\lib\\site-packages (from pandas) (2.3.0)\n",
      "Requirement already satisfied: python-dateutil>=2.8.2 in c:\\users\\navee\\appdata\\roaming\\python\\python311\\site-packages (from pandas) (2.9.0.post0)\n",
      "Requirement already satisfied: pytz>=2020.1 in c:\\users\\navee\\appdata\\local\\programs\\python\\python311\\lib\\site-packages (from pandas) (2025.2)\n",
      "Requirement already satisfied: tzdata>=2022.7 in c:\\users\\navee\\appdata\\local\\programs\\python\\python311\\lib\\site-packages (from pandas) (2025.2)\n",
      "Requirement already satisfied: six>=1.5 in c:\\users\\navee\\appdata\\roaming\\python\\python311\\site-packages (from python-dateutil>=2.8.2->pandas) (1.17.0)\n",
      "Note: you may need to restart the kernel to use updated packages.\n"
     ]
    },
    {
     "name": "stderr",
     "output_type": "stream",
     "text": [
      "\n",
      "[notice] A new release of pip available: 22.3 -> 25.1.1\n",
      "[notice] To update, run: python.exe -m pip install --upgrade pip\n"
     ]
    }
   ],
   "source": [
    "pip install pandas"
   ]
  },
  {
   "cell_type": "code",
   "execution_count": 28,
   "id": "41be3cd1",
   "metadata": {},
   "outputs": [
    {
     "name": "stdout",
     "output_type": "stream",
     "text": [
      "Hello Naveen!\n"
     ]
    }
   ],
   "source": [
    "class Person:\n",
    "    def say_hello(self):\n",
    "        print(\"Hello Naveen!\")\n",
    "\n",
    "# Creating object\n",
    "p = Person()\n",
    "p.say_hello()\n"
   ]
  },
  {
   "cell_type": "code",
   "execution_count": 29,
   "id": "1c8496ff",
   "metadata": {},
   "outputs": [
    {
     "name": "stdout",
     "output_type": "stream",
     "text": [
      "Hello Naveen!\n",
      "\n"
     ]
    }
   ],
   "source": [
    "# Writing to file\n",
    "with open(\"file.txt\", \"w\") as f:\n",
    "    f.write(\"Hello Naveen!\\n\")\n",
    "\n",
    "# Reading from file\n",
    "with open(\"file.txt\", \"r\") as f:\n",
    "    data = f.read()\n",
    "    print(data)"
   ]
  },
  {
   "cell_type": "code",
   "execution_count": 30,
   "id": "4b1a8311",
   "metadata": {},
   "outputs": [
    {
     "name": "stdout",
     "output_type": "stream",
     "text": [
      "You cannot divide by zero!\n"
     ]
    }
   ],
   "source": [
    "try:\n",
    "    a = 10 / 0\n",
    "except ZeroDivisionError:\n",
    "    print(\"You cannot divide by zero!\")"
   ]
  },
  {
   "cell_type": "code",
   "execution_count": 31,
   "id": "cfa4daaa",
   "metadata": {},
   "outputs": [
    {
     "name": "stdout",
     "output_type": "stream",
     "text": [
      "This always runs\n"
     ]
    }
   ],
   "source": [
    "try:\n",
    "    a = 5/1\n",
    "except:\n",
    "    print(\"Some error occurred\")\n",
    "finally:\n",
    "    print(\"This always runs\")"
   ]
  },
  {
   "cell_type": "code",
   "execution_count": 32,
   "id": "c3549b35",
   "metadata": {},
   "outputs": [],
   "source": [
    "class student:\n",
    "    def __init__(self, name, age):\n",
    "        self.name = name\n",
    "        self.age = age\n",
    "\n",
    "    def display(self):\n",
    "        print(f\"Name: {self.name}, Age: {self.age}\")"
   ]
  },
  {
   "cell_type": "code",
   "execution_count": 33,
   "id": "9be6f216",
   "metadata": {},
   "outputs": [
    {
     "name": "stdout",
     "output_type": "stream",
     "text": [
      "Requirement already satisfied: numpy in c:\\users\\navee\\appdata\\local\\programs\\python\\python311\\lib\\site-packages (2.3.0)\n",
      "Note: you may need to restart the kernel to use updated packages.\n"
     ]
    },
    {
     "name": "stderr",
     "output_type": "stream",
     "text": [
      "\n",
      "[notice] A new release of pip available: 22.3 -> 25.1.1\n",
      "[notice] To update, run: python.exe -m pip install --upgrade pip\n"
     ]
    }
   ],
   "source": [
    "pip install numpy"
   ]
  },
  {
   "cell_type": "code",
   "execution_count": 34,
   "id": "84f474a3",
   "metadata": {},
   "outputs": [],
   "source": [
    "import pandas as pd\n",
    "\n",
    "df = pd.read_csv('C:\\\\Users\\\\navee\\\\OneDrive\\\\Desktop\\\\myfiles\\\\My Uber Drives - 2016.csv')"
   ]
  },
  {
   "cell_type": "code",
   "execution_count": 35,
   "id": "66521343",
   "metadata": {},
   "outputs": [],
   "source": [
    "df\n",
    "import numpy as np"
   ]
  },
  {
   "cell_type": "code",
   "execution_count": 36,
   "id": "d4b81c5c",
   "metadata": {},
   "outputs": [
    {
     "name": "stdout",
     "output_type": "stream",
     "text": [
      "      START_DATE*       END_DATE* CATEGORY*       START*            STOP*  \\\n",
      "0  1/1/2016 21:11  1/1/2016 21:17  Business  Fort Pierce      Fort Pierce   \n",
      "1   1/2/2016 1:25   1/2/2016 1:37  Business  Fort Pierce      Fort Pierce   \n",
      "2  1/2/2016 20:25  1/2/2016 20:38  Business  Fort Pierce      Fort Pierce   \n",
      "3  1/5/2016 17:31  1/5/2016 17:45  Business  Fort Pierce      Fort Pierce   \n",
      "4  1/6/2016 14:42  1/6/2016 15:49  Business  Fort Pierce  West Palm Beach   \n",
      "\n",
      "   MILES*         PURPOSE*  \n",
      "0     5.1   Meal/Entertain  \n",
      "1     5.0              NaN  \n",
      "2     4.8  Errand/Supplies  \n",
      "3     4.7          Meeting  \n",
      "4    63.7   Customer Visit  \n"
     ]
    }
   ],
   "source": [
    "print(df.head())"
   ]
  },
  {
   "cell_type": "code",
   "execution_count": 37,
   "id": "93fd0eda",
   "metadata": {},
   "outputs": [
    {
     "name": "stdout",
     "output_type": "stream",
     "text": [
      "<class 'pandas.core.frame.DataFrame'>\n",
      "RangeIndex: 1156 entries, 0 to 1155\n",
      "Data columns (total 7 columns):\n",
      " #   Column       Non-Null Count  Dtype  \n",
      "---  ------       --------------  -----  \n",
      " 0   START_DATE*  1156 non-null   object \n",
      " 1   END_DATE*    1155 non-null   object \n",
      " 2   CATEGORY*    1155 non-null   object \n",
      " 3   START*       1155 non-null   object \n",
      " 4   STOP*        1155 non-null   object \n",
      " 5   MILES*       1156 non-null   float64\n",
      " 6   PURPOSE*     653 non-null    object \n",
      "dtypes: float64(1), object(6)\n",
      "memory usage: 63.3+ KB\n",
      "None\n",
      "START_DATE*      0\n",
      "END_DATE*        1\n",
      "CATEGORY*        1\n",
      "START*           1\n",
      "STOP*            1\n",
      "MILES*           0\n",
      "PURPOSE*       503\n",
      "dtype: int64\n"
     ]
    },
    {
     "name": "stderr",
     "output_type": "stream",
     "text": [
      "C:\\Users\\navee\\AppData\\Local\\Temp\\ipykernel_22148\\2065884418.py:5: FutureWarning: A value is trying to be set on a copy of a DataFrame or Series through chained assignment using an inplace method.\n",
      "The behavior will change in pandas 3.0. This inplace method will never work because the intermediate object on which we are setting values always behaves as a copy.\n",
      "\n",
      "For example, when doing 'df[col].method(value, inplace=True)', try using 'df.method({col: value}, inplace=True)' or df[col] = df[col].method(value) instead, to perform the operation inplace on the original object.\n",
      "\n",
      "\n",
      "  df['PURPOSE*'].fillna('Unknown', inplace=True)\n"
     ]
    }
   ],
   "source": [
    "print(df.info())\n",
    "# Check missing values\n",
    "print(df.isnull().sum())\n",
    "# Replace NaN with 'Unknown' in 'PURPOSE*' column\n",
    "df['PURPOSE*'].fillna('Unknown', inplace=True)\n",
    "\n",
    "\n"
   ]
  },
  {
   "cell_type": "code",
   "execution_count": null,
   "id": "719eacc2",
   "metadata": {},
   "outputs": [],
   "source": []
  },
  {
   "cell_type": "code",
   "execution_count": 38,
   "id": "dfb0bb62",
   "metadata": {},
   "outputs": [
    {
     "name": "stdout",
     "output_type": "stream",
     "text": [
      "             MILES*\n",
      "count   1156.000000\n",
      "mean      21.115398\n",
      "std      359.299007\n",
      "min        0.500000\n",
      "25%        2.900000\n",
      "50%        6.000000\n",
      "75%       10.400000\n",
      "max    12204.700000\n"
     ]
    }
   ],
   "source": [
    "print(df.describe())\n",
    "total_miles = df['MILES*'].sum()\n"
   ]
  },
  {
   "cell_type": "code",
   "execution_count": 39,
   "id": "74c5238d",
   "metadata": {},
   "outputs": [
    {
     "name": "stdout",
     "output_type": "stream",
     "text": [
      "Total Miles: 24409.4\n",
      "PURPOSE*\n",
      "Airport/Travel        16.5\n",
      "Between Offices      197.0\n",
      "Charity ($)           15.1\n",
      "Commute              180.2\n",
      "Customer Visit      2089.5\n",
      "Errand/Supplies      508.0\n",
      "Meal/Entertain       911.7\n",
      "Meeting             2851.3\n",
      "Moving                18.2\n",
      "Temporary Site       523.7\n",
      "Unknown            17098.2\n",
      "Name: MILES*, dtype: float64\n"
     ]
    }
   ],
   "source": [
    "print(\"Total Miles:\", total_miles)\n",
    "miles_per_purpose = df.groupby('PURPOSE*')['MILES*'].sum()\n",
    "print(miles_per_purpose)"
   ]
  },
  {
   "cell_type": "code",
   "execution_count": 40,
   "id": "1e54cdab",
   "metadata": {},
   "outputs": [
    {
     "name": "stdout",
     "output_type": "stream",
     "text": [
      "CATEGORY*\n",
      "Business    1078\n",
      "Personal      77\n",
      "Name: count, dtype: int64\n"
     ]
    }
   ],
   "source": [
    "category_counts = df['CATEGORY*'].value_counts()\n",
    "print(category_counts)"
   ]
  },
  {
   "cell_type": "code",
   "execution_count": 41,
   "id": "b043de8c",
   "metadata": {},
   "outputs": [
    {
     "name": "stdout",
     "output_type": "stream",
     "text": [
      "     START_DATE* END_DATE* CATEGORY* START* STOP*   MILES* PURPOSE*\n",
      "1155      Totals       NaN       NaN    NaN   NaN  12204.7  Unknown\n"
     ]
    }
   ],
   "source": [
    "max_miles = df['MILES*'].max()  # Find the maximum miles\n",
    "longest_ride = df[df['MILES*'] == max_miles]  # Get full row\n",
    "print(longest_ride)\n"
   ]
  },
  {
   "cell_type": "code",
   "execution_count": 42,
   "id": "a9c16d2e",
   "metadata": {},
   "outputs": [
    {
     "name": "stdout",
     "output_type": "stream",
     "text": [
      "Total Business Miles: 11487.0\n"
     ]
    }
   ],
   "source": [
    "business_miles = df[df['CATEGORY*'] == 'Business']['MILES*'].sum()\n",
    "print(\"Total Business Miles:\", business_miles)"
   ]
  },
  {
   "cell_type": "code",
   "execution_count": 43,
   "id": "06d336c9",
   "metadata": {},
   "outputs": [],
   "source": [
    "# Convert START_DATE* and END_DATE* columns to datetime safely\n",
    "df['START_DATE*'] = pd.to_datetime(df['START_DATE*'], errors='coerce')\n",
    "df['END_DATE*'] = pd.to_datetime(df['END_DATE*'], errors='coerce')\n"
   ]
  },
  {
   "cell_type": "code",
   "execution_count": 44,
   "id": "c3f44f29",
   "metadata": {},
   "outputs": [
    {
     "data": {
      "text/html": [
       "<div>\n",
       "<style scoped>\n",
       "    .dataframe tbody tr th:only-of-type {\n",
       "        vertical-align: middle;\n",
       "    }\n",
       "\n",
       "    .dataframe tbody tr th {\n",
       "        vertical-align: top;\n",
       "    }\n",
       "\n",
       "    .dataframe thead th {\n",
       "        text-align: right;\n",
       "    }\n",
       "</style>\n",
       "<table border=\"1\" class=\"dataframe\">\n",
       "  <thead>\n",
       "    <tr style=\"text-align: right;\">\n",
       "      <th></th>\n",
       "      <th>START_DATE*</th>\n",
       "      <th>END_DATE*</th>\n",
       "      <th>CATEGORY*</th>\n",
       "      <th>START*</th>\n",
       "      <th>STOP*</th>\n",
       "      <th>MILES*</th>\n",
       "      <th>PURPOSE*</th>\n",
       "    </tr>\n",
       "  </thead>\n",
       "  <tbody>\n",
       "    <tr>\n",
       "      <th>0</th>\n",
       "      <td>2016-01-01 21:11:00</td>\n",
       "      <td>2016-01-01 21:17:00</td>\n",
       "      <td>Business</td>\n",
       "      <td>Fort Pierce</td>\n",
       "      <td>Fort Pierce</td>\n",
       "      <td>5.1</td>\n",
       "      <td>Meal/Entertain</td>\n",
       "    </tr>\n",
       "    <tr>\n",
       "      <th>1</th>\n",
       "      <td>2016-01-02 01:25:00</td>\n",
       "      <td>2016-01-02 01:37:00</td>\n",
       "      <td>Business</td>\n",
       "      <td>Fort Pierce</td>\n",
       "      <td>Fort Pierce</td>\n",
       "      <td>5.0</td>\n",
       "      <td>Unknown</td>\n",
       "    </tr>\n",
       "    <tr>\n",
       "      <th>2</th>\n",
       "      <td>2016-01-02 20:25:00</td>\n",
       "      <td>2016-01-02 20:38:00</td>\n",
       "      <td>Business</td>\n",
       "      <td>Fort Pierce</td>\n",
       "      <td>Fort Pierce</td>\n",
       "      <td>4.8</td>\n",
       "      <td>Errand/Supplies</td>\n",
       "    </tr>\n",
       "    <tr>\n",
       "      <th>3</th>\n",
       "      <td>2016-01-05 17:31:00</td>\n",
       "      <td>2016-01-05 17:45:00</td>\n",
       "      <td>Business</td>\n",
       "      <td>Fort Pierce</td>\n",
       "      <td>Fort Pierce</td>\n",
       "      <td>4.7</td>\n",
       "      <td>Meeting</td>\n",
       "    </tr>\n",
       "    <tr>\n",
       "      <th>4</th>\n",
       "      <td>2016-01-06 14:42:00</td>\n",
       "      <td>2016-01-06 15:49:00</td>\n",
       "      <td>Business</td>\n",
       "      <td>Fort Pierce</td>\n",
       "      <td>West Palm Beach</td>\n",
       "      <td>63.7</td>\n",
       "      <td>Customer Visit</td>\n",
       "    </tr>\n",
       "    <tr>\n",
       "      <th>...</th>\n",
       "      <td>...</td>\n",
       "      <td>...</td>\n",
       "      <td>...</td>\n",
       "      <td>...</td>\n",
       "      <td>...</td>\n",
       "      <td>...</td>\n",
       "      <td>...</td>\n",
       "    </tr>\n",
       "    <tr>\n",
       "      <th>1151</th>\n",
       "      <td>2016-12-31 13:24:00</td>\n",
       "      <td>2016-12-31 13:42:00</td>\n",
       "      <td>Business</td>\n",
       "      <td>Kar?chi</td>\n",
       "      <td>Unknown Location</td>\n",
       "      <td>3.9</td>\n",
       "      <td>Temporary Site</td>\n",
       "    </tr>\n",
       "    <tr>\n",
       "      <th>1152</th>\n",
       "      <td>2016-12-31 15:03:00</td>\n",
       "      <td>2016-12-31 15:38:00</td>\n",
       "      <td>Business</td>\n",
       "      <td>Unknown Location</td>\n",
       "      <td>Unknown Location</td>\n",
       "      <td>16.2</td>\n",
       "      <td>Meeting</td>\n",
       "    </tr>\n",
       "    <tr>\n",
       "      <th>1153</th>\n",
       "      <td>2016-12-31 21:32:00</td>\n",
       "      <td>2016-12-31 21:50:00</td>\n",
       "      <td>Business</td>\n",
       "      <td>Katunayake</td>\n",
       "      <td>Gampaha</td>\n",
       "      <td>6.4</td>\n",
       "      <td>Temporary Site</td>\n",
       "    </tr>\n",
       "    <tr>\n",
       "      <th>1154</th>\n",
       "      <td>2016-12-31 22:08:00</td>\n",
       "      <td>2016-12-31 23:51:00</td>\n",
       "      <td>Business</td>\n",
       "      <td>Gampaha</td>\n",
       "      <td>Ilukwatta</td>\n",
       "      <td>48.2</td>\n",
       "      <td>Temporary Site</td>\n",
       "    </tr>\n",
       "    <tr>\n",
       "      <th>1155</th>\n",
       "      <td>NaT</td>\n",
       "      <td>NaT</td>\n",
       "      <td>NaN</td>\n",
       "      <td>NaN</td>\n",
       "      <td>NaN</td>\n",
       "      <td>12204.7</td>\n",
       "      <td>Unknown</td>\n",
       "    </tr>\n",
       "  </tbody>\n",
       "</table>\n",
       "<p>1156 rows × 7 columns</p>\n",
       "</div>"
      ],
      "text/plain": [
       "             START_DATE*           END_DATE* CATEGORY*            START*  \\\n",
       "0    2016-01-01 21:11:00 2016-01-01 21:17:00  Business       Fort Pierce   \n",
       "1    2016-01-02 01:25:00 2016-01-02 01:37:00  Business       Fort Pierce   \n",
       "2    2016-01-02 20:25:00 2016-01-02 20:38:00  Business       Fort Pierce   \n",
       "3    2016-01-05 17:31:00 2016-01-05 17:45:00  Business       Fort Pierce   \n",
       "4    2016-01-06 14:42:00 2016-01-06 15:49:00  Business       Fort Pierce   \n",
       "...                  ...                 ...       ...               ...   \n",
       "1151 2016-12-31 13:24:00 2016-12-31 13:42:00  Business           Kar?chi   \n",
       "1152 2016-12-31 15:03:00 2016-12-31 15:38:00  Business  Unknown Location   \n",
       "1153 2016-12-31 21:32:00 2016-12-31 21:50:00  Business        Katunayake   \n",
       "1154 2016-12-31 22:08:00 2016-12-31 23:51:00  Business           Gampaha   \n",
       "1155                 NaT                 NaT       NaN               NaN   \n",
       "\n",
       "                 STOP*   MILES*         PURPOSE*  \n",
       "0          Fort Pierce      5.1   Meal/Entertain  \n",
       "1          Fort Pierce      5.0          Unknown  \n",
       "2          Fort Pierce      4.8  Errand/Supplies  \n",
       "3          Fort Pierce      4.7          Meeting  \n",
       "4      West Palm Beach     63.7   Customer Visit  \n",
       "...                ...      ...              ...  \n",
       "1151  Unknown Location      3.9   Temporary Site  \n",
       "1152  Unknown Location     16.2          Meeting  \n",
       "1153           Gampaha      6.4   Temporary Site  \n",
       "1154         Ilukwatta     48.2   Temporary Site  \n",
       "1155               NaN  12204.7          Unknown  \n",
       "\n",
       "[1156 rows x 7 columns]"
      ]
     },
     "execution_count": 44,
     "metadata": {},
     "output_type": "execute_result"
    }
   ],
   "source": [
    "df"
   ]
  },
  {
   "cell_type": "code",
   "execution_count": 45,
   "id": "4bcf69c9",
   "metadata": {},
   "outputs": [
    {
     "name": "stdout",
     "output_type": "stream",
     "text": [
      "          START_DATE*           END_DATE* CATEGORY*       START*  \\\n",
      "0 2016-01-01 21:11:00 2016-01-01 21:17:00  Business  Fort Pierce   \n",
      "1 2016-01-02 01:25:00 2016-01-02 01:37:00  Business  Fort Pierce   \n",
      "2 2016-01-02 20:25:00 2016-01-02 20:38:00  Business  Fort Pierce   \n",
      "3 2016-01-05 17:31:00 2016-01-05 17:45:00  Business  Fort Pierce   \n",
      "4 2016-01-06 14:42:00 2016-01-06 15:49:00  Business  Fort Pierce   \n",
      "\n",
      "             STOP*  MILES*         PURPOSE*      TOTAL_TIME  TOTAL_TIME_MIN  \n",
      "0      Fort Pierce     5.1   Meal/Entertain 0 days 00:06:00             6.0  \n",
      "1      Fort Pierce     5.0          Unknown 0 days 00:12:00            12.0  \n",
      "2      Fort Pierce     4.8  Errand/Supplies 0 days 00:13:00            13.0  \n",
      "3      Fort Pierce     4.7          Meeting 0 days 00:14:00            14.0  \n",
      "4  West Palm Beach    63.7   Customer Visit 0 days 01:07:00            67.0  \n"
     ]
    }
   ],
   "source": [
    "# Now calculate total time\n",
    "df['TOTAL_TIME'] = df['END_DATE*'] - df['START_DATE*']\n",
    "df['TOTAL_TIME_MIN'] = df['TOTAL_TIME'].dt.total_seconds() / 60\n",
    "\n",
    "# See result\n",
    "print(df.head())\n"
   ]
  },
  {
   "cell_type": "code",
   "execution_count": 46,
   "id": "4472cb72",
   "metadata": {},
   "outputs": [
    {
     "name": "stdout",
     "output_type": "stream",
     "text": [
      "  CATEGORY*       START*            STOP*  MILES*         PURPOSE*  \\\n",
      "0  Business  Fort Pierce      Fort Pierce     5.1   Meal/Entertain   \n",
      "1  Business  Fort Pierce      Fort Pierce     5.0          Unknown   \n",
      "2  Business  Fort Pierce      Fort Pierce     4.8  Errand/Supplies   \n",
      "3  Business  Fort Pierce      Fort Pierce     4.7          Meeting   \n",
      "4  Business  Fort Pierce  West Palm Beach    63.7   Customer Visit   \n",
      "\n",
      "       TOTAL_TIME  TOTAL_TIME_MIN  Start_Date    End_Date Start_Time  End_Time  \n",
      "0 0 days 00:06:00             6.0  2016-01-01  2016-01-01   21:11:00  21:17:00  \n",
      "1 0 days 00:12:00            12.0  2016-01-02  2016-01-02   01:25:00  01:37:00  \n",
      "2 0 days 00:13:00            13.0  2016-01-02  2016-01-02   20:25:00  20:38:00  \n",
      "3 0 days 00:14:00            14.0  2016-01-05  2016-01-05   17:31:00  17:45:00  \n",
      "4 0 days 01:07:00            67.0  2016-01-06  2016-01-06   14:42:00  15:49:00  \n"
     ]
    }
   ],
   "source": [
    "# First convert both columns to datetime\n",
    "df['START_DATE*'] = pd.to_datetime(df['START_DATE*'])\n",
    "df['END_DATE*'] = pd.to_datetime(df['END_DATE*'])\n",
    "\n",
    "# Create new columns for Date (without time)\n",
    "df['Start_Date'] = df['START_DATE*'].dt.date\n",
    "df['End_Date'] = df['END_DATE*'].dt.date\n",
    "\n",
    "# Create new columns for Time (without date)\n",
    "df['Start_Time'] = df['START_DATE*'].dt.time\n",
    "df['End_Time'] = df['END_DATE*'].dt.time\n",
    "# Now we can drop the original datetime columns if not needed\n",
    "df.drop(columns=['START_DATE*', 'END_DATE*'], inplace=True)\n",
    "# Display the updated DataFrame\n",
    "print(df.head())\n",
    "\n"
   ]
  },
  {
   "cell_type": "code",
   "execution_count": 47,
   "id": "9cb825e0",
   "metadata": {},
   "outputs": [
    {
     "name": "stdout",
     "output_type": "stream",
     "text": [
      "           CATEGORY*       START*            STOP*  MILES*         PURPOSE*  \\\n",
      "Start_Date                                                                    \n",
      "2016-01-01  Business  Fort Pierce      Fort Pierce     5.1   Meal/Entertain   \n",
      "2016-01-02  Business  Fort Pierce      Fort Pierce     5.0          Unknown   \n",
      "2016-01-02  Business  Fort Pierce      Fort Pierce     4.8  Errand/Supplies   \n",
      "2016-01-05  Business  Fort Pierce      Fort Pierce     4.7          Meeting   \n",
      "2016-01-06  Business  Fort Pierce  West Palm Beach    63.7   Customer Visit   \n",
      "\n",
      "                TOTAL_TIME  TOTAL_TIME_MIN    End_Date Start_Time  End_Time  \n",
      "Start_Date                                                                   \n",
      "2016-01-01 0 days 00:06:00             6.0  2016-01-01   21:11:00  21:17:00  \n",
      "2016-01-02 0 days 00:12:00            12.0  2016-01-02   01:25:00  01:37:00  \n",
      "2016-01-02 0 days 00:13:00            13.0  2016-01-02   20:25:00  20:38:00  \n",
      "2016-01-05 0 days 00:14:00            14.0  2016-01-05   17:31:00  17:45:00  \n",
      "2016-01-06 0 days 01:07:00            67.0  2016-01-06   14:42:00  15:49:00  \n"
     ]
    }
   ],
   "source": [
    "# Set Start_Date as index\n",
    "df = df.set_index('Start_Date')\n",
    "\n",
    "# Print to check\n",
    "print(df.head())\n"
   ]
  },
  {
   "cell_type": "code",
   "execution_count": null,
   "id": "20a07444",
   "metadata": {},
   "outputs": [
    {
     "data": {
      "text/html": [
       "<div>\n",
       "<style scoped>\n",
       "    .dataframe tbody tr th:only-of-type {\n",
       "        vertical-align: middle;\n",
       "    }\n",
       "\n",
       "    .dataframe tbody tr th {\n",
       "        vertical-align: top;\n",
       "    }\n",
       "\n",
       "    .dataframe thead th {\n",
       "        text-align: right;\n",
       "    }\n",
       "</style>\n",
       "<table border=\"1\" class=\"dataframe\">\n",
       "  <thead>\n",
       "    <tr style=\"text-align: right;\">\n",
       "      <th></th>\n",
       "      <th>START_DATE*</th>\n",
       "      <th>END_DATE*</th>\n",
       "      <th>CATEGORY*</th>\n",
       "      <th>START*</th>\n",
       "      <th>STOP*</th>\n",
       "      <th>MILES*</th>\n",
       "      <th>PURPOSE*</th>\n",
       "      <th>TOTAL_TIME</th>\n",
       "      <th>TOTAL_TIME_MIN</th>\n",
       "      <th>End_Date</th>\n",
       "      <th>Start_Time</th>\n",
       "      <th>End_Time</th>\n",
       "    </tr>\n",
       "    <tr>\n",
       "      <th>Start_Date</th>\n",
       "      <th></th>\n",
       "      <th></th>\n",
       "      <th></th>\n",
       "      <th></th>\n",
       "      <th></th>\n",
       "      <th></th>\n",
       "      <th></th>\n",
       "      <th></th>\n",
       "      <th></th>\n",
       "      <th></th>\n",
       "      <th></th>\n",
       "      <th></th>\n",
       "    </tr>\n",
       "  </thead>\n",
       "  <tbody>\n",
       "    <tr>\n",
       "      <th>2016-01-01</th>\n",
       "      <td>2016-01-01 21:11:00</td>\n",
       "      <td>2016-01-01 21:17:00</td>\n",
       "      <td>Business</td>\n",
       "      <td>Fort Pierce</td>\n",
       "      <td>Fort Pierce</td>\n",
       "      <td>5.1</td>\n",
       "      <td>Meal/Entertain</td>\n",
       "      <td>0 days 00:06:00</td>\n",
       "      <td>6.0</td>\n",
       "      <td>2016-01-01</td>\n",
       "      <td>21:11:00</td>\n",
       "      <td>21:17:00</td>\n",
       "    </tr>\n",
       "    <tr>\n",
       "      <th>2016-01-02</th>\n",
       "      <td>2016-01-02 01:25:00</td>\n",
       "      <td>2016-01-02 01:37:00</td>\n",
       "      <td>Business</td>\n",
       "      <td>Fort Pierce</td>\n",
       "      <td>Fort Pierce</td>\n",
       "      <td>5.0</td>\n",
       "      <td>Unknown</td>\n",
       "      <td>0 days 00:12:00</td>\n",
       "      <td>12.0</td>\n",
       "      <td>2016-01-02</td>\n",
       "      <td>01:25:00</td>\n",
       "      <td>01:37:00</td>\n",
       "    </tr>\n",
       "    <tr>\n",
       "      <th>2016-01-02</th>\n",
       "      <td>2016-01-02 20:25:00</td>\n",
       "      <td>2016-01-02 20:38:00</td>\n",
       "      <td>Business</td>\n",
       "      <td>Fort Pierce</td>\n",
       "      <td>Fort Pierce</td>\n",
       "      <td>4.8</td>\n",
       "      <td>Errand/Supplies</td>\n",
       "      <td>0 days 00:13:00</td>\n",
       "      <td>13.0</td>\n",
       "      <td>2016-01-02</td>\n",
       "      <td>20:25:00</td>\n",
       "      <td>20:38:00</td>\n",
       "    </tr>\n",
       "    <tr>\n",
       "      <th>2016-01-05</th>\n",
       "      <td>2016-01-05 17:31:00</td>\n",
       "      <td>2016-01-05 17:45:00</td>\n",
       "      <td>Business</td>\n",
       "      <td>Fort Pierce</td>\n",
       "      <td>Fort Pierce</td>\n",
       "      <td>4.7</td>\n",
       "      <td>Meeting</td>\n",
       "      <td>0 days 00:14:00</td>\n",
       "      <td>14.0</td>\n",
       "      <td>2016-01-05</td>\n",
       "      <td>17:31:00</td>\n",
       "      <td>17:45:00</td>\n",
       "    </tr>\n",
       "    <tr>\n",
       "      <th>2016-01-06</th>\n",
       "      <td>2016-01-06 14:42:00</td>\n",
       "      <td>2016-01-06 15:49:00</td>\n",
       "      <td>Business</td>\n",
       "      <td>Fort Pierce</td>\n",
       "      <td>West Palm Beach</td>\n",
       "      <td>63.7</td>\n",
       "      <td>Customer Visit</td>\n",
       "      <td>0 days 01:07:00</td>\n",
       "      <td>67.0</td>\n",
       "      <td>2016-01-06</td>\n",
       "      <td>14:42:00</td>\n",
       "      <td>15:49:00</td>\n",
       "    </tr>\n",
       "    <tr>\n",
       "      <th>...</th>\n",
       "      <td>...</td>\n",
       "      <td>...</td>\n",
       "      <td>...</td>\n",
       "      <td>...</td>\n",
       "      <td>...</td>\n",
       "      <td>...</td>\n",
       "      <td>...</td>\n",
       "      <td>...</td>\n",
       "      <td>...</td>\n",
       "      <td>...</td>\n",
       "      <td>...</td>\n",
       "      <td>...</td>\n",
       "    </tr>\n",
       "    <tr>\n",
       "      <th>2016-12-31</th>\n",
       "      <td>2016-12-31 13:24:00</td>\n",
       "      <td>2016-12-31 13:42:00</td>\n",
       "      <td>Business</td>\n",
       "      <td>Kar?chi</td>\n",
       "      <td>Unknown Location</td>\n",
       "      <td>3.9</td>\n",
       "      <td>Temporary Site</td>\n",
       "      <td>0 days 00:18:00</td>\n",
       "      <td>18.0</td>\n",
       "      <td>2016-12-31</td>\n",
       "      <td>13:24:00</td>\n",
       "      <td>13:42:00</td>\n",
       "    </tr>\n",
       "    <tr>\n",
       "      <th>2016-12-31</th>\n",
       "      <td>2016-12-31 15:03:00</td>\n",
       "      <td>2016-12-31 15:38:00</td>\n",
       "      <td>Business</td>\n",
       "      <td>Unknown Location</td>\n",
       "      <td>Unknown Location</td>\n",
       "      <td>16.2</td>\n",
       "      <td>Meeting</td>\n",
       "      <td>0 days 00:35:00</td>\n",
       "      <td>35.0</td>\n",
       "      <td>2016-12-31</td>\n",
       "      <td>15:03:00</td>\n",
       "      <td>15:38:00</td>\n",
       "    </tr>\n",
       "    <tr>\n",
       "      <th>2016-12-31</th>\n",
       "      <td>2016-12-31 21:32:00</td>\n",
       "      <td>2016-12-31 21:50:00</td>\n",
       "      <td>Business</td>\n",
       "      <td>Katunayake</td>\n",
       "      <td>Gampaha</td>\n",
       "      <td>6.4</td>\n",
       "      <td>Temporary Site</td>\n",
       "      <td>0 days 00:18:00</td>\n",
       "      <td>18.0</td>\n",
       "      <td>2016-12-31</td>\n",
       "      <td>21:32:00</td>\n",
       "      <td>21:50:00</td>\n",
       "    </tr>\n",
       "    <tr>\n",
       "      <th>2016-12-31</th>\n",
       "      <td>2016-12-31 22:08:00</td>\n",
       "      <td>2016-12-31 23:51:00</td>\n",
       "      <td>Business</td>\n",
       "      <td>Gampaha</td>\n",
       "      <td>Ilukwatta</td>\n",
       "      <td>48.2</td>\n",
       "      <td>Temporary Site</td>\n",
       "      <td>0 days 01:43:00</td>\n",
       "      <td>103.0</td>\n",
       "      <td>2016-12-31</td>\n",
       "      <td>22:08:00</td>\n",
       "      <td>23:51:00</td>\n",
       "    </tr>\n",
       "    <tr>\n",
       "      <th>NaT</th>\n",
       "      <td>NaT</td>\n",
       "      <td>NaT</td>\n",
       "      <td>NaN</td>\n",
       "      <td>NaN</td>\n",
       "      <td>NaN</td>\n",
       "      <td>12204.7</td>\n",
       "      <td>Unknown</td>\n",
       "      <td>NaT</td>\n",
       "      <td>NaN</td>\n",
       "      <td>NaT</td>\n",
       "      <td>NaT</td>\n",
       "      <td>NaT</td>\n",
       "    </tr>\n",
       "  </tbody>\n",
       "</table>\n",
       "<p>1156 rows × 12 columns</p>\n",
       "</div>"
      ],
      "text/plain": [
       "                   START_DATE*           END_DATE* CATEGORY*  \\\n",
       "Start_Date                                                     \n",
       "2016-01-01 2016-01-01 21:11:00 2016-01-01 21:17:00  Business   \n",
       "2016-01-02 2016-01-02 01:25:00 2016-01-02 01:37:00  Business   \n",
       "2016-01-02 2016-01-02 20:25:00 2016-01-02 20:38:00  Business   \n",
       "2016-01-05 2016-01-05 17:31:00 2016-01-05 17:45:00  Business   \n",
       "2016-01-06 2016-01-06 14:42:00 2016-01-06 15:49:00  Business   \n",
       "...                        ...                 ...       ...   \n",
       "2016-12-31 2016-12-31 13:24:00 2016-12-31 13:42:00  Business   \n",
       "2016-12-31 2016-12-31 15:03:00 2016-12-31 15:38:00  Business   \n",
       "2016-12-31 2016-12-31 21:32:00 2016-12-31 21:50:00  Business   \n",
       "2016-12-31 2016-12-31 22:08:00 2016-12-31 23:51:00  Business   \n",
       "NaT                        NaT                 NaT       NaN   \n",
       "\n",
       "                      START*             STOP*   MILES*         PURPOSE*  \\\n",
       "Start_Date                                                                 \n",
       "2016-01-01       Fort Pierce       Fort Pierce      5.1   Meal/Entertain   \n",
       "2016-01-02       Fort Pierce       Fort Pierce      5.0          Unknown   \n",
       "2016-01-02       Fort Pierce       Fort Pierce      4.8  Errand/Supplies   \n",
       "2016-01-05       Fort Pierce       Fort Pierce      4.7          Meeting   \n",
       "2016-01-06       Fort Pierce   West Palm Beach     63.7   Customer Visit   \n",
       "...                      ...               ...      ...              ...   \n",
       "2016-12-31           Kar?chi  Unknown Location      3.9   Temporary Site   \n",
       "2016-12-31  Unknown Location  Unknown Location     16.2          Meeting   \n",
       "2016-12-31        Katunayake           Gampaha      6.4   Temporary Site   \n",
       "2016-12-31           Gampaha         Ilukwatta     48.2   Temporary Site   \n",
       "NaT                      NaN               NaN  12204.7          Unknown   \n",
       "\n",
       "                TOTAL_TIME  TOTAL_TIME_MIN    End_Date Start_Time  End_Time  \n",
       "Start_Date                                                                   \n",
       "2016-01-01 0 days 00:06:00             6.0  2016-01-01   21:11:00  21:17:00  \n",
       "2016-01-02 0 days 00:12:00            12.0  2016-01-02   01:25:00  01:37:00  \n",
       "2016-01-02 0 days 00:13:00            13.0  2016-01-02   20:25:00  20:38:00  \n",
       "2016-01-05 0 days 00:14:00            14.0  2016-01-05   17:31:00  17:45:00  \n",
       "2016-01-06 0 days 01:07:00            67.0  2016-01-06   14:42:00  15:49:00  \n",
       "...                    ...             ...         ...        ...       ...  \n",
       "2016-12-31 0 days 00:18:00            18.0  2016-12-31   13:24:00  13:42:00  \n",
       "2016-12-31 0 days 00:35:00            35.0  2016-12-31   15:03:00  15:38:00  \n",
       "2016-12-31 0 days 00:18:00            18.0  2016-12-31   21:32:00  21:50:00  \n",
       "2016-12-31 0 days 01:43:00           103.0  2016-12-31   22:08:00  23:51:00  \n",
       "NaT                    NaT             NaN         NaT        NaT       NaT  \n",
       "\n",
       "[1156 rows x 12 columns]"
      ]
     },
     "execution_count": 35,
     "metadata": {},
     "output_type": "execute_result"
    }
   ],
   "source": [
    "df"
   ]
  },
  {
   "cell_type": "code",
   "execution_count": 50,
   "id": "000fa0d5",
   "metadata": {},
   "outputs": [],
   "source": [
    "import pandas as pd\n",
    "\n",
    "# Read your CSV file (file handling)\n",
    "df = pd.read_csv(\"My Uber Drives - 2016.csv\")"
   ]
  },
  {
   "cell_type": "code",
   "execution_count": 51,
   "id": "1e8db18e",
   "metadata": {},
   "outputs": [
    {
     "name": "stdout",
     "output_type": "stream",
     "text": [
      "Collecting matplotlib\n",
      "  Downloading matplotlib-3.10.3-cp311-cp311-win_amd64.whl (8.1 MB)\n",
      "     ---------------------------------------- 8.1/8.1 MB 5.5 MB/s eta 0:00:00\n",
      "Collecting seaborn\n",
      "  Downloading seaborn-0.13.2-py3-none-any.whl (294 kB)\n",
      "     -------------------------------------- 294.9/294.9 kB 9.2 MB/s eta 0:00:00\n",
      "Collecting contourpy>=1.0.1\n",
      "  Downloading contourpy-1.3.2-cp311-cp311-win_amd64.whl (222 kB)\n",
      "     -------------------------------------- 222.0/222.0 kB 6.6 MB/s eta 0:00:00\n",
      "Collecting cycler>=0.10\n",
      "  Downloading cycler-0.12.1-py3-none-any.whl (8.3 kB)\n",
      "Collecting fonttools>=4.22.0\n",
      "  Downloading fonttools-4.58.2-cp311-cp311-win_amd64.whl (2.2 MB)\n",
      "     ---------------------------------------- 2.2/2.2 MB 7.5 MB/s eta 0:00:00\n",
      "Collecting kiwisolver>=1.3.1\n",
      "  Downloading kiwisolver-1.4.8-cp311-cp311-win_amd64.whl (71 kB)\n",
      "     ---------------------------------------- 72.0/72.0 kB 3.9 MB/s eta 0:00:00\n",
      "Requirement already satisfied: numpy>=1.23 in c:\\users\\navee\\appdata\\local\\programs\\python\\python311\\lib\\site-packages (from matplotlib) (2.3.0)\n",
      "Requirement already satisfied: packaging>=20.0 in c:\\users\\navee\\appdata\\roaming\\python\\python311\\site-packages (from matplotlib) (25.0)\n",
      "Collecting pillow>=8\n",
      "  Downloading pillow-11.2.1-cp311-cp311-win_amd64.whl (2.7 MB)\n",
      "     ---------------------------------------- 2.7/2.7 MB 6.3 MB/s eta 0:00:00\n",
      "Collecting pyparsing>=2.3.1\n",
      "  Downloading pyparsing-3.2.3-py3-none-any.whl (111 kB)\n",
      "     ---------------------------------------- 111.1/111.1 kB ? eta 0:00:00\n",
      "Requirement already satisfied: python-dateutil>=2.7 in c:\\users\\navee\\appdata\\roaming\\python\\python311\\site-packages (from matplotlib) (2.9.0.post0)\n",
      "Requirement already satisfied: pandas>=1.2 in c:\\users\\navee\\appdata\\local\\programs\\python\\python311\\lib\\site-packages (from seaborn) (2.3.0)\n",
      "Requirement already satisfied: pytz>=2020.1 in c:\\users\\navee\\appdata\\local\\programs\\python\\python311\\lib\\site-packages (from pandas>=1.2->seaborn) (2025.2)\n",
      "Requirement already satisfied: tzdata>=2022.7 in c:\\users\\navee\\appdata\\local\\programs\\python\\python311\\lib\\site-packages (from pandas>=1.2->seaborn) (2025.2)\n",
      "Requirement already satisfied: six>=1.5 in c:\\users\\navee\\appdata\\roaming\\python\\python311\\site-packages (from python-dateutil>=2.7->matplotlib) (1.17.0)\n",
      "Installing collected packages: pyparsing, pillow, kiwisolver, fonttools, cycler, contourpy, matplotlib, seaborn\n",
      "Successfully installed contourpy-1.3.2 cycler-0.12.1 fonttools-4.58.2 kiwisolver-1.4.8 matplotlib-3.10.3 pillow-11.2.1 pyparsing-3.2.3 seaborn-0.13.2\n",
      "Note: you may need to restart the kernel to use updated packages.\n"
     ]
    },
    {
     "name": "stderr",
     "output_type": "stream",
     "text": [
      "\n",
      "[notice] A new release of pip available: 22.3 -> 25.1.1\n",
      "[notice] To update, run: python.exe -m pip install --upgrade pip\n"
     ]
    }
   ],
   "source": [
    "pip install matplotlib seaborn\n"
   ]
  },
  {
   "cell_type": "code",
   "execution_count": 52,
   "id": "eaaa42c8",
   "metadata": {},
   "outputs": [
    {
     "data": {
      "image/png": "[encoded data removed]",
      "text/plain": [
       "<Figure size 640x480 with 1 Axes>"
      ]
     },
     "metadata": {},
     "output_type": "display_data"
    }
   ],
   "source": [
    "import seaborn as sns\n",
    "import matplotlib.pyplot as plt\n",
    "\n",
    "# Create histogram for miles\n",
    "sns.histplot(df['MILES*'], bins=20, kde=True)\n",
    "\n",
    "plt.title('Distribution of Miles')\n",
    "plt.xlabel('Miles')\n",
    "plt.ylabel('Frequency')\n",
    "plt.show()"
   ]
  },
  {
   "cell_type": "code",
   "execution_count": 59,
   "id": "b539af3f",
   "metadata": {},
   "outputs": [
    {
     "data": {
      "image/png": "[encoded data removed]",
      "text/plain": [
       "<Figure size 640x480 with 1 Axes>"
      ]
     },
     "metadata": {},
     "output_type": "display_data"
    },
    {
     "data": {
      "image/png": "[encoded data removed]",
      "text/plain": [
       "<Figure size 640x480 with 1 Axes>"
      ]
     },
     "metadata": {},
     "output_type": "display_data"
    },
    {
     "data": {
      "image/png": "[encoded data removed]",
      "text/plain": [
       "<Figure size 640x480 with 1 Axes>"
      ]
     },
     "metadata": {},
     "output_type": "display_data"
    },
    {
     "data": {
      "image/png": "[encoded data removed]",
      "text/plain": [
       "<Figure size 640x480 with 1 Axes>"
      ]
     },
     "metadata": {},
     "output_type": "display_data"
    }
   ],
   "source": [
    "import seaborn as sns\n",
    "import matplotlib.pyplot as plt\n",
    "sns.countplot(y=df['PURPOSE*'])\n",
    "\n",
    "plt.title('Number of Trips by Purpose')\n",
    "plt.xlabel('Trip Count')\n",
    "plt.ylabel('Purpose')\n",
    "plt.show()\n",
    "# Create histogram for miles\n",
    "sns.histplot(df['MILES*'], bins=20, kde=True)\n",
    "\n",
    "plt.title('Miles Distribution')\n",
    "plt.xlabel('Miles')\n",
    "plt.ylabel('Frequency')\n",
    "plt.show()\n",
    "# Recreate TOTAL_TIME from the datetime columns if not present\n",
    "if 'TOTAL_TIME' not in df.columns and 'START_DATE*' in df.columns and 'END_DATE*' in df.columns:\n",
    "\tdf['START_DATE*'] = pd.to_datetime(df['START_DATE*'], errors='coerce')\n",
    "\tdf['END_DATE*'] = pd.to_datetime(df['END_DATE*'], errors='coerce')\n",
    "\tdf['TOTAL_TIME'] = df['END_DATE*'] - df['START_DATE*']\n",
    "\n",
    "# If TOTAL_TIME still not present, skip the scatter plot\n",
    "if 'TOTAL_TIME' in df.columns:\n",
    "\tdf['TOTAL_TIME_MIN'] = df['TOTAL_TIME'].dt.total_seconds() / 60\n",
    "\t# Create scatter plot for Miles vs Total Time\n",
    "\tsns.scatterplot(x=df['MILES*'], y=df['TOTAL_TIME_MIN'])\n",
    "\n",
    "\tplt.title('Miles vs Total Time')\n",
    "\tplt.xlabel('Miles')\n",
    "\tplt.ylabel('Total Time (Minutes)')\n",
    "\tplt.show()\n",
    "else:\n",
    "\tprint(\"TOTAL_TIME column not found. Scatter plot cannot be created.\")\n",
    "\n",
    "plt.title('Miles vs Total Time')\n",
    "plt.xlabel('Miles')\n",
    "plt.ylabel('Total Time (Minutes)')\n",
    "plt.show()"
   ]
  },
  {
   "cell_type": "code",
   "execution_count": 56,
   "id": "0bd38d4a",
   "metadata": {},
   "outputs": [
    {
     "name": "stdout",
     "output_type": "stream",
     "text": [
      "Index(['START_DATE*', 'END_DATE*', 'CATEGORY*', 'START*', 'STOP*', 'MILES*',\n",
      "       'PURPOSE*'],\n",
      "      dtype='object')\n"
     ]
    }
   ],
   "source": [
    "print(df.columns)\n"
   ]
  },
  {
   "cell_type": "code",
   "execution_count": null,
   "id": "f1747001",
   "metadata": {},
   "outputs": [],
   "source": []
  }
 ],
 "metadata": {
  "kernelspec": {
   "display_name": "Python 3",
   "language": "python",
   "name": "python3"
  },
  "language_info": {
   "codemirror_mode": {
    "name": "ipython",
    "version": 3
   },
   "file_extension": ".py",
   "mimetype": "text/x-python",
   "name": "python",
   "nbconvert_exporter": "python",
   "pygments_lexer": "ipython3",
   "version": "3.11.0"
  }
 },
 "nbformat": 4,
 "nbformat_minor": 5
}
